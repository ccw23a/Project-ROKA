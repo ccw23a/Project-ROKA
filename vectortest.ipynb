{
  "nbformat": 4,
  "nbformat_minor": 0,
  "metadata": {
    "colab": {
      "provenance": [],
      "authorship_tag": "ABX9TyOWx6o7zFVZZ3lmRFrA+EeQ",
      "include_colab_link": true
    },
    "kernelspec": {
      "name": "python3",
      "display_name": "Python 3"
    },
    "language_info": {
      "name": "python"
    }
  },
  "cells": [
    {
      "cell_type": "markdown",
      "metadata": {
        "id": "view-in-github",
        "colab_type": "text"
      },
      "source": [
        "<a href=\"https://colab.research.google.com/github/ccw23a/Project-ROKA/blob/main/vectortest.ipynb\" target=\"_parent\"><img src=\"https://colab.research.google.com/assets/colab-badge.svg\" alt=\"Open In Colab\"/></a>"
      ]
    },
    {
      "cell_type": "code",
      "execution_count": 4,
      "metadata": {
        "id": "I4Ung6IDXBNF",
        "colab": {
          "base_uri": "https://localhost:8080/",
          "height": 251
        },
        "outputId": "ada16015-4ec4-43f3-c438-b1f3118f3cfe"
      },
      "outputs": [
        {
          "output_type": "stream",
          "name": "stderr",
          "text": [
            "/usr/local/lib/python3.7/dist-packages/matplotlib/backends/backend_agg.py:214: RuntimeWarning: Glyph 52629 missing from current font.\n",
            "  font.set_text(s, 0.0, flags=flags)\n",
            "/usr/local/lib/python3.7/dist-packages/matplotlib/backends/backend_agg.py:183: RuntimeWarning: Glyph 52629 missing from current font.\n",
            "  font.set_text(s, 0, flags=flags)\n"
          ]
        },
        {
          "output_type": "display_data",
          "data": {
            "text/plain": [
              "<Figure size 144x144 with 1 Axes>"
            ],
            "image/png": "[encoded data removed]"
          },
          "metadata": {
            "needs_background": "light"
          }
        }
      ],
      "source": [
        "import numpy as np\n",
        "import matplotlib.pyplot as plt\n",
        "\n",
        "def drawV(vec1) :\n",
        "  array = np.array([0, 0, vec1[0], vec1[1]])\n",
        "  X, Y, U, V = zip(array)\n",
        "  plt.figure(figsize=(2,2))\n",
        "  plt.ylabel('Y축')\n",
        "  plt.xlabel('X축')\n",
        "  ax = plt.gca()\n",
        "  ax.quiver(X, Y, U, V, color='b', angles='xy', scale_units='xy', scale=1)\n",
        "  ax.set_xlim([-0.5, 2])\n",
        "  ax.set_ylim([-0.5, 2])\n",
        "  plt.draw()\n",
        "  plt.show()\n",
        "drawV([1, 1])"
      ]
    },
    {
      "cell_type": "markdown",
      "source": [],
      "metadata": {
        "id": "fCvcOqjVXbIm"
      }
    }
  ]
}